{
 "cells": [
  {
   "cell_type": "code",
   "execution_count": 1,
   "id": "6c793147-91f0-44e9-8464-04a0a0828d4e",
   "metadata": {},
   "outputs": [],
   "source": [
    "import numpy as np"
   ]
  },
  {
   "cell_type": "code",
   "execution_count": 2,
   "id": "79744a97-f917-4069-8e20-50aa451ca81e",
   "metadata": {},
   "outputs": [],
   "source": [
    "import cv2\n",
    "from collections import deque"
   ]
  },
  {
   "cell_type": "code",
   "execution_count": 4,
   "id": "97524361-7078-40d2-96d4-1a9849d5f2e9",
   "metadata": {},
   "outputs": [],
   "source": [
    "def setValues(x):#for trackbar function\n",
    "    print(\"\")"
   ]
  },
  {
   "cell_type": "code",
   "execution_count": 5,
   "id": "ce5b232f-dbbf-4bcc-99f7-483e58021537",
   "metadata": {},
   "outputs": [
    {
     "name": "stdout",
     "output_type": "stream",
     "text": [
      "\n",
      "\n",
      "\n",
      "\n",
      "\n"
     ]
    },
    {
     "ename": "",
     "evalue": "",
     "output_type": "error",
     "traceback": [
      "\u001b[1;31mThe Kernel crashed while executing code in the current cell or a previous cell. \n",
      "\u001b[1;31mPlease review the code in the cell(s) to identify a possible cause of the failure. \n",
      "\u001b[1;31mClick <a href='https://aka.ms/vscodeJupyterKernelCrash'>here</a> for more info. \n",
      "\u001b[1;31mView Jupyter <a href='command:jupyter.viewOutput'>log</a> for further details."
     ]
    }
   ],
   "source": [
    "#creating trackbar for marker color;\n",
    "cv2.namedWindow(\"Color detectors\")\n",
    "cv2.createTrackbar(\"Upper Hue\",\"Color detectors\",153,180,setValues)\n",
    "cv2.createTrackbar(\"Upper Saturation\",\"Color detectors\",255,255,setValues)\n",
    "cv2.createTrackbar(\"Upper Value\",\"Color detectors\",255,255,setValues)\n",
    "cv2.createTrackbar(\"Lower Hue\",\"Color detectors\",64,180,setValues)\n",
    "cv2.createTrackbar(\"Lower Value\",\"Color detectors\",78,255,setValues)\n",
    "\n"
   ]
  },
  {
   "cell_type": "code",
   "execution_count": 3,
   "id": "e5064749",
   "metadata": {},
   "outputs": [],
   "source": [
    "kernel=np.ones((5,5),np.uint8)"
   ]
  },
  {
   "cell_type": "code",
   "execution_count": 4,
   "id": "1861648e-a46e-4e39-9da3-addcc8ab56b7",
   "metadata": {},
   "outputs": [
    {
     "data": {
      "text/plain": [
       "array([[1, 1, 1, 1, 1],\n",
       "       [1, 1, 1, 1, 1],\n",
       "       [1, 1, 1, 1, 1],\n",
       "       [1, 1, 1, 1, 1],\n",
       "       [1, 1, 1, 1, 1]], dtype=uint8)"
      ]
     },
     "execution_count": 4,
     "metadata": {},
     "output_type": "execute_result"
    }
   ],
   "source": [
    "kernel"
   ]
  },
  {
   "cell_type": "code",
   "execution_count": 6,
   "id": "96786dca",
   "metadata": {},
   "outputs": [
    {
     "data": {
      "text/plain": [
       "array([[[255., 255., 255.],\n",
       "        [255., 255., 255.],\n",
       "        [255., 255., 255.],\n",
       "        ...,\n",
       "        [255., 255., 255.],\n",
       "        [255., 255., 255.],\n",
       "        [255., 255., 255.]],\n",
       "\n",
       "       [[255., 255., 255.],\n",
       "        [255., 255., 255.],\n",
       "        [255., 255., 255.],\n",
       "        ...,\n",
       "        [255., 255., 255.],\n",
       "        [255., 255., 255.],\n",
       "        [255., 255., 255.]],\n",
       "\n",
       "       [[255., 255., 255.],\n",
       "        [255., 255., 255.],\n",
       "        [255., 255., 255.],\n",
       "        ...,\n",
       "        [255., 255., 255.],\n",
       "        [255., 255., 255.],\n",
       "        [255., 255., 255.]],\n",
       "\n",
       "       ...,\n",
       "\n",
       "       [[255., 255., 255.],\n",
       "        [255., 255., 255.],\n",
       "        [255., 255., 255.],\n",
       "        ...,\n",
       "        [255., 255., 255.],\n",
       "        [255., 255., 255.],\n",
       "        [255., 255., 255.]],\n",
       "\n",
       "       [[255., 255., 255.],\n",
       "        [255., 255., 255.],\n",
       "        [255., 255., 255.],\n",
       "        ...,\n",
       "        [255., 255., 255.],\n",
       "        [255., 255., 255.],\n",
       "        [255., 255., 255.]],\n",
       "\n",
       "       [[255., 255., 255.],\n",
       "        [255., 255., 255.],\n",
       "        [255., 255., 255.],\n",
       "        ...,\n",
       "        [255., 255., 255.],\n",
       "        [255., 255., 255.],\n",
       "        [255., 255., 255.]]])"
      ]
     },
     "execution_count": 6,
     "metadata": {},
     "output_type": "execute_result"
    }
   ],
   "source": []
  },
  {
   "cell_type": "code",
   "execution_count": 9,
   "id": "d229e48e",
   "metadata": {},
   "outputs": [],
   "source": [
    "color=[[255,0,0],[0,255,0],[0,0,255],[0,255,255]]\n",
    "paintwindow=np.zeros((671,436,3))+255\n",
    "paintwindow=cv2.rectangle(paintwindow,(40,1),(140,65),(0,0,0),2)#It seems like you're using OpenCV (cv2) to draw a rectangle on an image. This line of code draws a rectangle on the image paintwindow with the specified parameters:\n",
    "\n",
    "# (40, 1) is the coordinate of the top-left corner of the rectangle.\n",
    "# (140, 65) is the coordinate of the bottom-right corner of the rectangle.\n",
    "# (0, 0, 0) represents the color of the rectangle in BGR format (black in this case).\n",
    "# 2 is the thickness of the rectangle border.\n",
    "\n",
    "paintwindow=cv2.rectangle(paintwindow,(160,1),(255,65),color[0],1)\n",
    "paintwindow=cv2.rectangle(paintwindow,(275,1),(370,65),color[1],1)\n",
    "paintwindow=cv2.rectangle(paintwindow,(390,1),(485,65),color[2],1)\n",
    "paintwindow=cv2.rectangle(paintwindow,(505,1),(600,65),color[3],1)"
   ]
  },
  {
   "cell_type": "code",
   "execution_count": 11,
   "id": "28ce17aa",
   "metadata": {},
   "outputs": [
    {
     "ename": "",
     "evalue": "",
     "output_type": "error",
     "traceback": [
      "\u001b[1;31mThe Kernel crashed while executing code in the current cell or a previous cell. \n",
      "\u001b[1;31mPlease review the code in the cell(s) to identify a possible cause of the failure. \n",
      "\u001b[1;31mClick <a href='https://aka.ms/vscodeJupyterKernelCrash'>here</a> for more info. \n",
      "\u001b[1;31mView Jupyter <a href='command:jupyter.viewOutput'>log</a> for further details."
     ]
    }
   ],
   "source": [
    "cv2.putText(paintwindow,\"CLEAR\",(49,33),cv2.FONT_HERSHEY_SIMPLEX,0.5,(0,0,0),2,cv2.LINE_AA)\n",
    "# \"CLEAR\" is the text to be displayed.\n",
    "# (49, 33) specifies the coordinates of the bottom-left corner of the text.\n",
    "# cv2.FONT_HERSHEY_SIMPLEX is the font type.\n",
    "# 0.5 is the font scale factor.\n",
    "# (0, 0, 0) is the color of the text in BGR format (black in this case).\n",
    "# 2 is the thickness of the text stroke.\n",
    "# cv2.LINE_AA is the line type.\n",
    "# This code will draw the text \"CLEAR\" on paintwindow with the specified parameters. \n",
    "cv2.putText(paintwindow,\"BLUE\",(185,33),cv2.FONT_HERSHEY_SIMPLEX,0.5,(255,255,255),2,cv2.LINE_AA)\n",
    "cv2.putText(paintwindow,\"GREEN\",(298,33),cv2.FONT_HERSHEY_SIMPLEX,0.5,(255,255,255),2,cv2.LINE_AA)\n",
    "cv2.putText(paintwindow,\"RED\",(420,33),cv2.FONT_HERSHEY_SIMPLEX,0.5,(255,255,255),2,cv2.LINE_AA)\n",
    "cv2.putText(paintwindow,\"YELLOW\",(520,33),cv2.FONT_HERSHEY_SIMPLEX,0.5,(150,150,150),2,cv2.LINE_AA)\n",
    "\n",
    "cv2.namedWindow('Paint',cv2.WINDOW_AUTOSIZE)\n",
    "\n"
   ]
  },
  {
   "cell_type": "code",
   "execution_count": null,
   "id": "e7e7525e",
   "metadata": {},
   "outputs": [],
   "source": [
    "import numpy as np\n",
    "import cv2\n",
    "from collections import deque\n",
    "\n",
    "\n",
    "def setValues(x):#for trackbar function\n",
    "    print(\"\")\n",
    "\n",
    "#creating trackbar for marker color;\n",
    "cv2.namedWindow(\"Color detectors\")\n",
    "cv2.createTrackbar(\"Upper Hue\",\"Color detectors\",153,180,setValues)\n",
    "cv2.createTrackbar(\"Upper Saturation\",\"Color detectors\",255,255,setValues)\n",
    "cv2.createTrackbar(\"Upper Value\",\"Color detectors\",255,255,setValues)\n",
    "cv2.createTrackbar(\"Lower Hue\",\"Color detectors\",64,180,setValues)\n",
    "cv2.createTrackbar(\"Lower Value\",\"Color detectors\",78,255,setValues)\n",
    "\n",
    "\n",
    "bpoint=[deque(maxlen=1024)]\n",
    "gpoint=[deque(maxlen=1024)]\n",
    "rpoint=[deque(maxlen=1024)]\n",
    "ypoint=[deque(maxlen=1024)]\n",
    "\n",
    "blue_index=0\n",
    "green_index=0\n",
    "red_index=0\n",
    "yellow_index=0\n",
    "\n",
    "kernel=np.ones((5,5),np.uint8)\n",
    "\n",
    "color=[[255,0,0],[0,255,0],[0,0,255],[0,255,255]]\n",
    "color_index=0\n",
    "\n",
    "paintwindow=np.zeros((671,436,3))+255\n",
    "paintwindow=cv2.rectangle(paintwindow,(40,1),(140,65),(0,0,0),2)#It seems like you're using OpenCV (cv2) to draw a rectangle on an image. This line of code draws a rectangle on the image paintwindow with the specified parameters:\n",
    "\n",
    "# (40, 1) is the coordinate of the top-left corner of the rectangle.\n",
    "# (140, 65) is the coordinate of the bottom-right corner of the rectangle.\n",
    "# (0, 0, 0) represents the color of the rectangle in BGR format (black in this case).\n",
    "# 2 is the thickness of the rectangle border.\n",
    "\n",
    "paintwindow=cv2.rectangle(paintwindow,(160,1),(255,65),color[0],1)\n",
    "paintwindow=cv2.rectangle(paintwindow,(275,1),(370,65),color[1],1)\n",
    "paintwindow=cv2.rectangle(paintwindow,(390,1),(485,65),color[2],1)\n",
    "paintwindow=cv2.rectangle(paintwindow,(505,1),(600,65),color[3],1)\n",
    "\n",
    "cv2.putText(paintwindow,\"CLEAR\",(49,33),cv2.FONT_HERSHEY_SIMPLEX,0.5,(0,0,0),2,cv2.LINE_AA)\n",
    "# \"CLEAR\" is the text to be displayed.\n",
    "# (49, 33) specifies the coordinates of the bottom-left corner of the text.\n",
    "# cv2.FONT_HERSHEY_SIMPLEX is the font type.\n",
    "# 0.5 is the font scale factor.\n",
    "# (0, 0, 0) is the color of the text in BGR format (black in this case).\n",
    "# 2 is the thickness of the text stroke.\n",
    "# cv2.LINE_AA is the line type.\n",
    "# This code will draw the text \"CLEAR\" on paintwindow with the specified parameters. \n",
    "cv2.putText(paintwindow,\"BLUE\",(185,33),cv2.FONT_HERSHEY_SIMPLEX,0.5,(255,255,255),2,cv2.LINE_AA)\n",
    "cv2.putText(paintwindow,\"GREEN\",(298,33),cv2.FONT_HERSHEY_SIMPLEX,0.5,(255,255,255),2,cv2.LINE_AA)\n",
    "cv2.putText(paintwindow,\"RED\",(420,33),cv2.FONT_HERSHEY_SIMPLEX,0.5,(255,255,255),2,cv2.LINE_AA)\n",
    "cv2.putText(paintwindow,\"YELLOW\",(520,33),cv2.FONT_HERSHEY_SIMPLEX,0.5,(150,150,150),2,cv2.LINE_AA)\n",
    "\n",
    "cv2.namedWindow('Paint',cv2.WINDOW_AUTOSIZE)\n",
    "\n",
    "\n"
   ]
  },
  {
   "cell_type": "code",
   "execution_count": null,
   "id": "0b6fef5a",
   "metadata": {},
   "outputs": [],
   "source": []
  }
 ],
 "metadata": {
  "kernelspec": {
   "display_name": "Python 3 (ipykernel)",
   "language": "python",
   "name": "python3"
  },
  "language_info": {
   "codemirror_mode": {
    "name": "ipython",
    "version": 3
   },
   "file_extension": ".py",
   "mimetype": "text/x-python",
   "name": "python",
   "nbconvert_exporter": "python",
   "pygments_lexer": "ipython3",
   "version": "3.11.0"
  }
 },
 "nbformat": 4,
 "nbformat_minor": 5
}
